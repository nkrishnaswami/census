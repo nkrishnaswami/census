{
 "cells": [
  {
   "cell_type": "code",
   "execution_count": null,
   "metadata": {},
   "outputs": [],
   "source": [
    "import geojson\n",
    "import geopandas as gpd\n",
    "import requests"
   ]
  },
  {
   "cell_type": "code",
   "execution_count": null,
   "metadata": {},
   "outputs": [],
   "source": [
    "%%time\n",
    "endpoint = 'https://tigerweb.geo.census.gov/arcgis/rest/services/TIGERweb/tigerWMS_ACS2015/MapServer/84/query'\n",
    "s = requests.session()\n",
    "s.params = {\n",
    "    'where': '',\n",
    "    'text': '',\n",
    "    'objectIds': '',\n",
    "    'time': '',\n",
    "    'geometry': '[[-2336502.536,-20037700.],[1.1615796196E7,2.0656504635E7]]',\n",
    "    'geometryType': 'esriGeometryEnvelope',\n",
    "    'inSR': 102100, # EPSG 3857\n",
    "    'spatialRel': 'esriSpatialRelIntersects',\n",
    "    'relationParam': '',\n",
    "    'outFields': 'STATE,COUNTY,BASENAME,NAME,STGEOMETRY',\n",
    "    'returnGeometry': True,\n",
    "    'returnTrueCurves': False,\n",
    "    'maxAllowableOffset': '',\n",
    "    'geometryPrecision': '',\n",
    "    'outSR': '',\n",
    "    'returnIdsOnly': False,\n",
    "    'returnCountOnly': False,\n",
    "    'orderByFields': '',\n",
    "    'groupByFieldsForStatistics': '',\n",
    "    'outStatistics': '',\n",
    "    'returnZ': False,\n",
    "    'returnM': False,\n",
    "    'gdbVersion': '',\n",
    "    'returnDistinctValues': False,\n",
    "    'f': 'geojson',        \n",
    "}\n",
    "start = 0\n",
    "done = False\n",
    "features = []\n",
    "crs = None\n",
    "while not done:\n",
    "    r = s.get(endpoint, params={\n",
    "        'resultOffset': start,\n",
    "        'resultRecordCount': 32,\n",
    "    })\n",
    "    r.raise_for_status()\n",
    "    counties = geojson.loads(r.text)\n",
    "    newfeats = counties.__geo_interface__['features']\n",
    "    if newfeats:\n",
    "        features.extend(newfeats)\n",
    "        crs=counties.__geo_interface__['crs']\n",
    "        start += len(newfeats)\n",
    "        print(\"Received\", len(newfeats), \"entries,\", start, \"total\")\n",
    "    else:\n",
    "        done = True\n",
    "counties_df = gpd.GeoDataFrame.from_features(features, crs=crs)"
   ]
  },
  {
   "cell_type": "code",
   "execution_count": null,
   "metadata": {},
   "outputs": [],
   "source": [
    "counties_df.to_file('counties.geojson', driver='GeoJSON')"
   ]
  }
 ],
 "metadata": {
  "language_info": {
   "name": "python",
   "pygments_lexer": "ipython3"
  }
 },
 "nbformat": 4,
 "nbformat_minor": 2
}
